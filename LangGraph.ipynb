{
  "nbformat": 4,
  "nbformat_minor": 0,
  "metadata": {
    "colab": {
      "provenance": [],
      "toc_visible": true,
      "authorship_tag": "ABX9TyP6TKnFAiHG3xcw1klFHby5",
      "include_colab_link": true
    },
    "kernelspec": {
      "name": "python3",
      "display_name": "Python 3"
    },
    "language_info": {
      "name": "python"
    }
  },
  "cells": [
    {
      "cell_type": "markdown",
      "metadata": {
        "id": "view-in-github",
        "colab_type": "text"
      },
      "source": [
        "<a href=\"https://colab.research.google.com/github/jaehakimm/Langgraph/blob/main/LangGraph.ipynb\" target=\"_parent\"><img src=\"https://colab.research.google.com/assets/colab-badge.svg\" alt=\"Open In Colab\"/></a>"
      ]
    },
    {
      "cell_type": "code",
      "source": [
        "%%capture --no-stderr\n",
        "%pip install --quiet -U langchain_openai langchain_core langchain_community tavily-python"
      ],
      "metadata": {
        "id": "zdY-8liQPfrU"
      },
      "execution_count": null,
      "outputs": []
    },
    {
      "cell_type": "code",
      "source": [
        "import os, getpass\n",
        "\n",
        "def _set_env(var: str):\n",
        "    if not os.environ.get(var):\n",
        "        os.environ[var] = getpass.getpass(f\"{var}: \")\n",
        "\n",
        "_set_env(\"OPENAI_API_KEY\")"
      ],
      "metadata": {
        "colab": {
          "base_uri": "https://localhost:8080/"
        },
        "id": "StGZgYTOQDHr",
        "outputId": "e21967d4-8d3f-4fd5-ade5-539a7a2d2380"
      },
      "execution_count": null,
      "outputs": [
        {
          "name": "stdout",
          "output_type": "stream",
          "text": [
            "OPENAI_API_KEY: ··········\n"
          ]
        }
      ]
    },
    {
      "cell_type": "code",
      "source": [
        "from langchain_openai import ChatOpenAI\n",
        "\n",
        "gpt4omini_chat = ChatOpenAI(model=\"gpt-4o-mini\", temperature=0)\n",
        "gpt35_chat = ChatOpenAI(model=\"gpt-3.5-turbo\", temperature=0)"
      ],
      "metadata": {
        "id": "v6LnqiT1Q50H"
      },
      "execution_count": null,
      "outputs": []
    },
    {
      "cell_type": "code",
      "source": [
        "from langchain_core.messages import HumanMessage\n",
        "\n",
        "msg = HumanMessage(content=\"Hello world\", name=\"kwan\")\n",
        "gpt35_chat([msg])"
      ],
      "metadata": {
        "colab": {
          "base_uri": "https://localhost:8080/"
        },
        "id": "5vBXpstbSKpK",
        "outputId": "27105e27-a11d-4d42-8e60-67fbe06761b6"
      },
      "execution_count": null,
      "outputs": [
        {
          "output_type": "execute_result",
          "data": {
            "text/plain": [
              "AIMessage(content='Hello! How can I assist you today?', additional_kwargs={'refusal': None}, response_metadata={'token_usage': {'completion_tokens': 10, 'prompt_tokens': 11, 'total_tokens': 21, 'completion_tokens_details': {'accepted_prediction_tokens': 0, 'audio_tokens': 0, 'reasoning_tokens': 0, 'rejected_prediction_tokens': 0}, 'prompt_tokens_details': {'audio_tokens': 0, 'cached_tokens': 0}}, 'model_name': 'gpt-3.5-turbo-0125', 'system_fingerprint': None, 'finish_reason': 'stop', 'logprobs': None}, id='run-7173057f-6bc4-47ee-a552-f71ef2c3c394-0', usage_metadata={'input_tokens': 11, 'output_tokens': 10, 'total_tokens': 21, 'input_token_details': {'audio': 0, 'cache_read': 0}, 'output_token_details': {'audio': 0, 'reasoning': 0}})"
            ]
          },
          "metadata": {},
          "execution_count": 8
        }
      ]
    },
    {
      "cell_type": "code",
      "source": [
        "_set_env(\"TAVILY_API_KEY\")"
      ],
      "metadata": {
        "colab": {
          "base_uri": "https://localhost:8080/"
        },
        "id": "zRglIz9ZTAXm",
        "outputId": "440c6a7b-c3b1-4b41-dbcd-f230f7970531"
      },
      "execution_count": null,
      "outputs": [
        {
          "name": "stdout",
          "output_type": "stream",
          "text": [
            "TAVILY_API_KEY: ··········\n"
          ]
        }
      ]
    },
    {
      "cell_type": "code",
      "source": [
        "from langchain_community.tools.tavily_search import TavilySearchResults\n",
        "tavilysearch = TavilySearchResults(maxresult=2)\n",
        "searchdoc = tavilysearch.invoke(\"what is agentic ai\")\n"
      ],
      "metadata": {
        "id": "kxeddvdITgR3"
      },
      "execution_count": null,
      "outputs": []
    },
    {
      "cell_type": "code",
      "source": [
        "searchdoc"
      ],
      "metadata": {
        "colab": {
          "base_uri": "https://localhost:8080/"
        },
        "id": "HFrcKnPoUkHO",
        "outputId": "f373801b-4e28-43c2-b83f-3cee29e17a91"
      },
      "execution_count": null,
      "outputs": [
        {
          "output_type": "execute_result",
          "data": {
            "text/plain": [
              "[{'url': 'https://www.techtarget.com/searchenterpriseai/definition/agentic-AI',\n",
              "  'content': 'What Is Agentic AI? What is agentic AI? Agentic AI refers to artificial intelligence systems that are capable of autonomous action and decision-making. Even if agentic AI systems are guided by goals that humans initially define, they can act alone and are capable of free-form interactions with the real world, e.g., robotics, or with virtual environments, e.g., simulations. Because agentic AI systems dynamically change their behavior when their environment changes, they could handle new or ambiguous information without having to turn to a human for guidance. Complex agentic AI systems that require extensive computational resources could consume significant amounts of energy, resulting in environmental damage and high operational costs.'},\n",
              " {'url': 'https://www.rpatech.ai/agentic-ai/',\n",
              "  'content': 'What is Agentic AI? Agentic AI refers to intelligent systems capable of autonomous action, decision-making, and goal-oriented behaviours. Unlike traditional AI systems that require specific instructions, Agentic AI operates independently, learning from its environment and adapting its behaviour in real-time to achieve objectives. Agentic AI: Often deployed in dynamic, operational environments like autonomous vehicles, robotics, or smart city infrastructure. Agentic AI By combining their strengths, Agentic and Generative AI can create systems capable of ideation and execution, such as autonomous marketing assistants that craft campaigns and deploy them autonomously. Benefits of Agentic AI Challenges of Agentic AI Agentic AI, known for its goal-oriented and autonomous behaviour, can synergize with Generative AI, which excels in creating content such as text, images, and code.'},\n",
              " {'url': 'https://konghq.com/blog/learning-center/agentic-ai',\n",
              "  'content': \"Kong AI Gateway As it interacts with its surroundings, agentic AI is constantly collecting data, learning, and refining its decision-making processes. Whether it's an autonomous vehicle moving to avoid an obstacle in its path or a security system detecting and responding to potential digital threats, these real-time capabilities make agentic AI competitive in dynamic, fast-paced environments such as healthcare, robotics, or finance. Efficiency and productivity: Because agentic AI systems can perform complex tasks independently, very little human oversight is needed, if any. Data privacy concerns: Agentic AI systems rely heavily on data to make decisions, and the more data they have to process, the better they can perform over time. A: Agentic AI is a type of artificial intelligence that operates autonomously, executing tasks, making decisions, and interacting with its surroundings independently, without continuous human intervention.\"},\n",
              " {'url': 'https://www.salesforce.com/agentforce/what-is-agentic-ai/',\n",
              "  'content': \"What is Agentic AI? What is Agentic AI? Learn how agentic AI is using data and artificial intelligence to help businesses boost employee productivity, drive innovation, and unlock new revenue streams. This platform has a suite of tools and services to help AI agents learn, adapt, and collaborate so they can quickly handle complex and dynamic tasks. With this framework, businesses can customize AI agents to meet their specific needs, whether those needs involve automating repetitive tasks, enhancing customer service, or driving strategic decision-making. Agentic AI uses self-contained agents — AI models that autonomously complete tasks and manage workflows using machine learning, algorithms, and predictive analytics to make real-time decisions. What's next for agentic AI?\"},\n",
              " {'url': 'https://www.ibm.com/think/insights/agentic-ai',\n",
              "  'content': 'Agentic AI gets us closer to the use cases that we, until recently, thought of as science fiction, where machines can complete complex tasks involving complex workflows, data-driven decision-making and action-taking with minimal human intervention. Agentic AI systems provide the best of both worlds: using LLMs to handle tasks that benefit from flexibility and dynamic responses, while combining these AI capabilities with traditional programming for strict rules, logic and performance. Agentic AI can use feedback loops where it actively seeks out new data to refine its models or decision-making processes. For example, an agentic AI could be tasked with managing a marketing campaign, continuously monitoring performance, adjusting strategies and optimizing results based on feedback without the need for human input at every step.'}]"
            ]
          },
          "metadata": {},
          "execution_count": 11
        }
      ]
    },
    {
      "cell_type": "markdown",
      "source": [
        "# **Module 1 **\n",
        "\n",
        "**LangGraph Arcademy**\n",
        "\n",
        "# Simple Graph"
      ],
      "metadata": {
        "id": "DdWile06UvzY"
      }
    },
    {
      "cell_type": "code",
      "source": [
        "%%capture --no-stderr\n",
        "%pip install --quiet -U langgraph"
      ],
      "metadata": {
        "id": "_dlKzatTU0e3"
      },
      "execution_count": null,
      "outputs": []
    },
    {
      "cell_type": "markdown",
      "source": [
        "# State\n",
        "\n",
        "First define a state of Graph\n",
        "For ? = input schema of workflow of graph, edge, node\n",
        "use Typedict class from Python Typing module as Schema"
      ],
      "metadata": {
        "id": "gNRuEXlhahdA"
      }
    },
    {
      "cell_type": "code",
      "source": [
        "from typing_extensions import TypedDict\n",
        "\n",
        "class state(TypedDict):\n",
        "  graph_state: str"
      ],
      "metadata": {
        "id": "ebJ9cietZ7TS"
      },
      "execution_count": null,
      "outputs": []
    },
    {
      "cell_type": "markdown",
      "source": [
        "# Node\n",
        "\n",
        "node = python function.. So the first position of Argument is State that define above. The reason is state is a typedict with Schema, all node can access the key graph_state with state['graph_state']\n",
        "\n",
        "each node return a new value of the state in key graph_state\n",
        "\n",
        "**important**\n",
        "\n",
        "By default a new value return by each node  will overried the previouse state value"
      ],
      "metadata": {
        "id": "KGg6fmovbPSi"
      }
    },
    {
      "cell_type": "code",
      "source": [
        "def node1 (state):\n",
        "  print(\"node1------------------\")\n",
        "  return {\"graph_state\": state['graph_state']+\"ฉันนั้น\"}\n",
        "\n",
        "def node2 (state):\n",
        "  print(\"node2------------------\")\n",
        "  return {\"graph_state\":state['graph_state']+\"สบายดี\"}\n",
        "\n",
        "def node3 (state):\n",
        "  print(\"node3------------------\")\n",
        "  return{\"graph_state\":state['graph_state']+\"ไม่สบาย\"}\n"
      ],
      "metadata": {
        "id": "jtw_XkoNc-yt"
      },
      "execution_count": null,
      "outputs": []
    },
    {
      "cell_type": "markdown",
      "source": [
        "# **Edge**\n",
        "Edge = connect to node\n",
        "\n",
        "normal edge = normal edge always work like this node 1 => node 2\n",
        "\n",
        "condition edge = want to customize or optional route between node\n",
        "\n",
        "condition edge are implement as function  the return next node"
      ],
      "metadata": {
        "id": "SgSBYL5vel0s"
      }
    },
    {
      "cell_type": "code",
      "source": [
        "import random\n",
        "from typing import Literal\n",
        "\n",
        "def decide_mood(state) -> Literal[\"node2\", \"node3\"]:\n",
        "\n",
        "    # Often, we will use state to decide on the next node to visit\n",
        "    user_input = state['graph_state']\n",
        "\n",
        "    # Here, let's just do a 50 / 50 split between nodes 2, 3\n",
        "    if random.random() < 0.5:\n",
        "\n",
        "        # 50% of the time, we return Node 2\n",
        "        return \"node2\"\n",
        "\n",
        "    # 50% of the time, we return Node 3\n",
        "    return \"node3\""
      ],
      "metadata": {
        "id": "EAqNF053fiuQ"
      },
      "execution_count": null,
      "outputs": []
    },
    {
      "cell_type": "markdown",
      "source": [
        "**Graph Construction**\n",
        "\n",
        "from the all component that created State,node, edge . From now will build Graph\n",
        "\n",
        "use StateGraph class is the Graphclass that have to use\n",
        "\n",
        "1. initialize a StateGraph with the State class we defined\n",
        "2. add our nodes and edges.\n",
        "3. use the START Node, a special node that sends user input to the graph, to indicate where to start our graph\n",
        "4. END Node is a special node that represents a terminal node\n",
        "\n",
        "last, compile our graph to perform a few basic checks on the graph structure.\n"
      ],
      "metadata": {
        "id": "TDk_DozGgunK"
      }
    },
    {
      "cell_type": "code",
      "source": [
        "from IPython.display import Image, display\n",
        "from langgraph.graph import StateGraph, START, END\n",
        "\n",
        "#initialize a StateGraph with the State class we defined\n",
        "builder = StateGraph(state)\n",
        "#add our nodes and edges.\n",
        "builder.add_node(\"node1\", node1)\n",
        "builder.add_node(\"node2\", node2)\n",
        "builder.add_node(\"node3\", node3)\n",
        "# use the START Node, a special node that sends user input to the graph, to indicate where to start our graph\n",
        "builder.add_edge(START, \"node1\")\n",
        "builder.add_conditional_edges(\"node1\", decide_mood)\n",
        "builder.add_edge(\"node2\", END)\n",
        "builder.add_edge(\"node3\", END)\n",
        "\n",
        "#Add\n",
        "graph = builder.compile()\n",
        "#view\n",
        "display(Image(graph.get_graph().draw_mermaid_png()))"
      ],
      "metadata": {
        "colab": {
          "base_uri": "https://localhost:8080/",
          "height": 350
        },
        "id": "OVZm88Z3h-B9",
        "outputId": "54e3fc06-34ee-489b-ccf4-932645dd8201"
      },
      "execution_count": null,
      "outputs": [
        {
          "output_type": "display_data",
          "data": {
            "image/png": "[encoded data removed]",
            "text/plain": [
              "<IPython.core.display.Image object>"
            ]
          },
          "metadata": {}
        }
      ]
    },
    {
      "cell_type": "code",
      "source": [
        "graph.invoke({\"graph_state\" : \"สวัสดี ฉันชื่อขวัญ\"})"
      ],
      "metadata": {
        "colab": {
          "base_uri": "https://localhost:8080/"
        },
        "id": "tMYEjLJBkSVR",
        "outputId": "9afe0719-cb0f-4893-e07e-33c3cb617f94"
      },
      "execution_count": null,
      "outputs": [
        {
          "output_type": "stream",
          "name": "stdout",
          "text": [
            "node1------------------\n",
            "node2------------------\n"
          ]
        },
        {
          "output_type": "execute_result",
          "data": {
            "text/plain": [
              "{'graph_state': 'สวัสดี ฉันชื่อขวัญฉันนั้นสบายดี'}"
            ]
          },
          "metadata": {},
          "execution_count": 25
        }
      ]
    },
    {
      "cell_type": "markdown",
      "source": [
        "\n",
        "\n",
        "---\n",
        "\n"
      ],
      "metadata": {
        "id": "YJaz5BVzhFvO"
      }
    },
    {
      "cell_type": "markdown",
      "source": [
        "# **Chain**\n",
        "built a simple graph with nodes, normal edges, and conditional edges"
      ],
      "metadata": {
        "id": "IxetkYyYe0MN"
      }
    },
    {
      "cell_type": "markdown",
      "source": [
        "# **Message**\n",
        "\n",
        "Chat model llm can use Message which capture for different role within conversation, Langchain also support massage type (HumanMessage, AI Message, SystemMessage, ToolMessage) All type is define or represent a message from the user, from chat model, for the chat model to instruct behavior, and from a tool call.\n",
        "\n",
        "\n",
        "\n",
        "---\n",
        "\n",
        "Let's create a list of messages.\n",
        "\n",
        "Each message can be supplied with a few things:\n",
        "\n",
        "content - content of the message\n",
        "\n",
        "*   content - content of the message\n",
        "*   name - optionally, a message author\n",
        "*   response_metadata - optionally, a dict of metadata (e.g., often populated by model provider for AIMessages)\n"
      ],
      "metadata": {
        "id": "wmfkdPyBfJ9U"
      }
    },
    {
      "cell_type": "code",
      "source": [
        "%%capture --no-stderr\n",
        "%pip install --quiet -U langchain_openai langchain_core langgraph"
      ],
      "metadata": {
        "id": "7us5Zaawgb00"
      },
      "execution_count": 1,
      "outputs": []
    },
    {
      "cell_type": "code",
      "source": [
        "from pprint import pprint\n",
        "from langchain_core.messages import HumanMessage, AIMessage"
      ],
      "metadata": {
        "id": "eT8sUvCKhe0g"
      },
      "execution_count": 2,
      "outputs": []
    },
    {
      "cell_type": "code",
      "source": [
        "message = [AIMessage(content=f\"Thailand is capital city is Bangkok\", name=\"model\")]\n",
        "message.append(HumanMessage(content=\"yes, Bangkok\", name=\"kwan\"))\n",
        "message.append(AIMessage(content=f\"Is it Bangkok ? not Chiang Mai\", name=\"model\"))\n",
        "message.append(HumanMessage(content=\"no Chiang Mai, just provice in Thailand\", name=\"kwan\"))\n",
        "message.append(AIMessage(content=f\"Thanks for good information\", name=\"model\"))\n",
        "\n",
        "for m in message:\n",
        "  m.pretty_print()"
      ],
      "metadata": {
        "colab": {
          "base_uri": "https://localhost:8080/"
        },
        "id": "lsMWUML4h2Cq",
        "outputId": "195b2591-3d60-480e-8080-039904f34bed"
      },
      "execution_count": 5,
      "outputs": [
        {
          "output_type": "stream",
          "name": "stdout",
          "text": [
            "==================================\u001b[1m Ai Message \u001b[0m==================================\n",
            "Name: model\n",
            "\n",
            "Thailand is capital city is Bangkok\n",
            "================================\u001b[1m Human Message \u001b[0m=================================\n",
            "Name: kwan\n",
            "\n",
            "yes, Bangkok\n",
            "==================================\u001b[1m Ai Message \u001b[0m==================================\n",
            "Name: model\n",
            "\n",
            "Is it Bangkok ? not Chiang Mai\n",
            "================================\u001b[1m Human Message \u001b[0m=================================\n",
            "Name: kwan\n",
            "\n",
            "no Chiang Mai, just provice in Thailand\n",
            "==================================\u001b[1m Ai Message \u001b[0m==================================\n",
            "Name: model\n",
            "\n",
            "Thanks for good information\n"
          ]
        }
      ]
    },
    {
      "cell_type": "markdown",
      "source": [
        "# Chat Model\n",
        "\n",
        "Chat model can use all type message that we mention before, let's do it +++++++\n"
      ],
      "metadata": {
        "id": "oQOTbuSZjq_K"
      }
    },
    {
      "cell_type": "code",
      "source": [
        "import os, getpass\n",
        "\n",
        "def _set_env(var: str):\n",
        "    if not os.environ.get(var):\n",
        "        os.environ[var] = getpass.getpass(f\"{var}: \")\n",
        "\n",
        "_set_env(\"OPENAI_API_KEY\")"
      ],
      "metadata": {
        "colab": {
          "base_uri": "https://localhost:8080/"
        },
        "id": "gPcEKEQuk5jb",
        "outputId": "eb8e9e8f-1f9a-40a4-bee3-b71c576869bf"
      },
      "execution_count": 6,
      "outputs": [
        {
          "name": "stdout",
          "output_type": "stream",
          "text": [
            "OPENAI_API_KEY: ··········\n"
          ]
        }
      ]
    },
    {
      "cell_type": "markdown",
      "source": [
        "Load chat model and invoke with list message that i created before"
      ],
      "metadata": {
        "id": "WWkSV922lvXM"
      }
    },
    {
      "cell_type": "code",
      "source": [
        "from langchain_openai import ChatOpenAI\n",
        "llm = ChatOpenAI(model=\"gpt-4o-mini\")\n",
        "result = llm.invoke(message)\n",
        "type(result)"
      ],
      "metadata": {
        "colab": {
          "base_uri": "https://localhost:8080/",
          "height": 186
        },
        "id": "QpWyXYWKl-VR",
        "outputId": "68b3969c-ab4d-4b47-853f-1c897cc5823a"
      },
      "execution_count": 13,
      "outputs": [
        {
          "output_type": "execute_result",
          "data": {
            "text/plain": [
              "langchain_core.messages.ai.AIMessage"
            ],
            "text/html": [
              "<div style=\"max-width:800px; border: 1px solid var(--colab-border-color);\"><style>\n",
              "      pre.function-repr-contents {\n",
              "        overflow-x: auto;\n",
              "        padding: 8px 12px;\n",
              "        max-height: 500px;\n",
              "      }\n",
              "\n",
              "      pre.function-repr-contents.function-repr-contents-collapsed {\n",
              "        cursor: pointer;\n",
              "        max-height: 100px;\n",
              "      }\n",
              "    </style>\n",
              "    <pre style=\"white-space: initial; background:\n",
              "         var(--colab-secondary-surface-color); padding: 8px 12px;\n",
              "         border-bottom: 1px solid var(--colab-border-color);\"><b>langchain_core.messages.ai.AIMessage</b><br/>def __init__(content: Union[str, list[Union[str, dict]]], **kwargs: Any) -&gt; None</pre><pre class=\"function-repr-contents function-repr-contents-collapsed\" style=\"\"><a class=\"filepath\" style=\"display:none\" href=\"#\">/usr/local/lib/python3.10/dist-packages/langchain_core/messages/ai.py</a>Message from an AI.\n",
              "\n",
              "AIMessage is returned from a chat model as a response to a prompt.\n",
              "\n",
              "This message represents the output of the model and consists of both\n",
              "the raw output as returned by the model together standardized fields\n",
              "(e.g., tool calls, usage metadata) added by the LangChain framework.</pre>\n",
              "      <script>\n",
              "      if (google.colab.kernel.accessAllowed && google.colab.files && google.colab.files.view) {\n",
              "        for (const element of document.querySelectorAll('.filepath')) {\n",
              "          element.style.display = 'block'\n",
              "          element.onclick = (event) => {\n",
              "            event.preventDefault();\n",
              "            event.stopPropagation();\n",
              "            google.colab.files.view(element.textContent, 141);\n",
              "          };\n",
              "        }\n",
              "      }\n",
              "      for (const element of document.querySelectorAll('.function-repr-contents')) {\n",
              "        element.onclick = (event) => {\n",
              "          event.preventDefault();\n",
              "          event.stopPropagation();\n",
              "          element.classList.toggle('function-repr-contents-collapsed');\n",
              "        };\n",
              "      }\n",
              "      </script>\n",
              "      </div>"
            ]
          },
          "metadata": {},
          "execution_count": 13
        }
      ]
    },
    {
      "cell_type": "code",
      "source": [
        "result"
      ],
      "metadata": {
        "colab": {
          "base_uri": "https://localhost:8080/"
        },
        "id": "NORMm76AngTV",
        "outputId": "53b51e50-4eed-4e24-af36-26e75a6c2d62"
      },
      "execution_count": 14,
      "outputs": [
        {
          "output_type": "execute_result",
          "data": {
            "text/plain": [
              "AIMessage(content=\"You're welcome! If you have any more questions about Thailand or anything else, feel free to ask!\", additional_kwargs={'refusal': None}, response_metadata={'token_usage': {'completion_tokens': 21, 'prompt_tokens': 61, 'total_tokens': 82, 'completion_tokens_details': {'accepted_prediction_tokens': 0, 'audio_tokens': 0, 'reasoning_tokens': 0, 'rejected_prediction_tokens': 0}, 'prompt_tokens_details': {'audio_tokens': 0, 'cached_tokens': 0}}, 'model_name': 'gpt-4o-mini-2024-07-18', 'system_fingerprint': 'fp_72ed7ab54c', 'finish_reason': 'stop', 'logprobs': None}, id='run-14c91e3c-2db4-44c9-88df-592e993f609e-0', usage_metadata={'input_tokens': 61, 'output_tokens': 21, 'total_tokens': 82, 'input_token_details': {'audio': 0, 'cache_read': 0}, 'output_token_details': {'audio': 0, 'reasoning': 0}})"
            ]
          },
          "metadata": {},
          "execution_count": 14
        }
      ]
    },
    {
      "cell_type": "code",
      "source": [
        "result.response_metadata"
      ],
      "metadata": {
        "colab": {
          "base_uri": "https://localhost:8080/"
        },
        "id": "B06lW00-nklC",
        "outputId": "13f34c96-9aea-43d1-cf4f-62c118d6c198"
      },
      "execution_count": 15,
      "outputs": [
        {
          "output_type": "execute_result",
          "data": {
            "text/plain": [
              "{'token_usage': {'completion_tokens': 21,\n",
              "  'prompt_tokens': 61,\n",
              "  'total_tokens': 82,\n",
              "  'completion_tokens_details': {'accepted_prediction_tokens': 0,\n",
              "   'audio_tokens': 0,\n",
              "   'reasoning_tokens': 0,\n",
              "   'rejected_prediction_tokens': 0},\n",
              "  'prompt_tokens_details': {'audio_tokens': 0, 'cached_tokens': 0}},\n",
              " 'model_name': 'gpt-4o-mini-2024-07-18',\n",
              " 'system_fingerprint': 'fp_72ed7ab54c',\n",
              " 'finish_reason': 'stop',\n",
              " 'logprobs': None}"
            ]
          },
          "metadata": {},
          "execution_count": 15
        }
      ]
    },
    {
      "cell_type": "markdown",
      "source": [
        "# Tool"
      ],
      "metadata": {
        "id": "uJNIbTDan8xh"
      }
    },
    {
      "cell_type": "markdown",
      "source": [
        "Tool is magic item for model, model can interact with external system data, source etc.External system often require in schema or payload rather than natural language.\n",
        "\n",
        "So when i want to blind an API, for example, as a tool i give a model to know an input schema\n",
        "\n",
        "** Model will choose tool from nature language that input from user, and model will return an output following tool's schema"
      ],
      "metadata": {
        "id": "OId9WaDwoSur"
      }
    },
    {
      "cell_type": "code",
      "source": [
        "#simply pass any Python function into ChatModel.bind_tools(function)."
      ],
      "metadata": {
        "id": "SMBX6PIfzF13"
      },
      "execution_count": 16,
      "outputs": []
    },
    {
      "cell_type": "code",
      "source": [
        "def plus (a: int, b:int) -> int:\n",
        "    \"\"\"plus a and b.\n",
        "\n",
        "    Args:\n",
        "        a: first int\n",
        "        b: second int\n",
        "    \"\"\"\n",
        "    return a+b\n",
        "\n",
        "llm_with_tool = llm.bind_tools([plus])"
      ],
      "metadata": {
        "id": "xvG57lZczI4Y"
      },
      "execution_count": 19,
      "outputs": []
    },
    {
      "cell_type": "markdown",
      "source": [
        "from Now if i passed an input \"what is 5 plus 8 ?\"\n",
        "\n",
        "will see tool call return\n",
        "\n",
        "\n",
        "The tool call has specific arguments that match the input schema of our function along with the name of the function to call.\n",
        "\n",
        "{'arguments': '{\"a\":5,\"b\":8}', 'name': 'plus'}"
      ],
      "metadata": {
        "id": "mDuHinJn0qcN"
      }
    },
    {
      "cell_type": "code",
      "source": [
        "tool_call = llm_with_tool.invoke([HumanMessage(content=\"What is 5 plus 8 ?\",name=\"kwan\")])"
      ],
      "metadata": {
        "id": "CkMm3ArP1UtY"
      },
      "execution_count": 20,
      "outputs": []
    },
    {
      "cell_type": "code",
      "source": [
        "tool_call"
      ],
      "metadata": {
        "colab": {
          "base_uri": "https://localhost:8080/"
        },
        "id": "iJjtrHOF12ok",
        "outputId": "83c29629-9efd-4fd4-9f10-dec926ed1238"
      },
      "execution_count": 21,
      "outputs": [
        {
          "output_type": "execute_result",
          "data": {
            "text/plain": [
              "AIMessage(content='', additional_kwargs={'tool_calls': [{'id': 'call_VpyNjWaFB3yVOdQbU1o8I4uG', 'function': {'arguments': '{\"a\":5,\"b\":8}', 'name': 'plus'}, 'type': 'function'}], 'refusal': None}, response_metadata={'token_usage': {'completion_tokens': 18, 'prompt_tokens': 63, 'total_tokens': 81, 'completion_tokens_details': {'accepted_prediction_tokens': 0, 'audio_tokens': 0, 'reasoning_tokens': 0, 'rejected_prediction_tokens': 0}, 'prompt_tokens_details': {'audio_tokens': 0, 'cached_tokens': 0}}, 'model_name': 'gpt-4o-mini-2024-07-18', 'system_fingerprint': 'fp_bd83329f63', 'finish_reason': 'tool_calls', 'logprobs': None}, id='run-196cb269-3ee2-4563-8602-256760d2ecab-0', tool_calls=[{'name': 'plus', 'args': {'a': 5, 'b': 8}, 'id': 'call_VpyNjWaFB3yVOdQbU1o8I4uG', 'type': 'tool_call'}], usage_metadata={'input_tokens': 63, 'output_tokens': 18, 'total_tokens': 81, 'input_token_details': {'audio': 0, 'cache_read': 0}, 'output_token_details': {'audio': 0, 'reasoning': 0}})"
            ]
          },
          "metadata": {},
          "execution_count": 21
        }
      ]
    },
    {
      "cell_type": "code",
      "source": [
        "tool_call.additional_kwargs['tool_calls']"
      ],
      "metadata": {
        "colab": {
          "base_uri": "https://localhost:8080/"
        },
        "id": "6I0_TN1c2B49",
        "outputId": "de6ed3b9-0259-4084-ed76-9ac1314b9723"
      },
      "execution_count": 22,
      "outputs": [
        {
          "output_type": "execute_result",
          "data": {
            "text/plain": [
              "[{'id': 'call_VpyNjWaFB3yVOdQbU1o8I4uG',\n",
              "  'function': {'arguments': '{\"a\":5,\"b\":8}', 'name': 'plus'},\n",
              "  'type': 'function'}]"
            ]
          },
          "metadata": {},
          "execution_count": 22
        }
      ]
    },
    {
      "cell_type": "markdown",
      "source": [
        "# Using messages as state\n",
        "\n",
        "from first about LangGraph now i can use message in our graph state.\n",
        "Let's Define our state, MessageState as Typedict with a singlekey:message\n",
        "\n",
        "Message is a simple list that we define before (Bangkok is capital city in Thailand )\n"
      ],
      "metadata": {
        "id": "9lAPUhvt2UC7"
      }
    },
    {
      "cell_type": "code",
      "source": [
        "from typing_extensions import TypedDict\n",
        "from langchain_core.messages import AnyMessage\n",
        "\n",
        "class MessagesState(TypedDict):\n",
        "  message : list[AnyMessage]"
      ],
      "metadata": {
        "id": "75Y9dRFi30bB"
      },
      "execution_count": 23,
      "outputs": []
    },
    {
      "cell_type": "markdown",
      "source": [
        "# Reducers\n",
        "\n",
        "Problem Alert !!!!!!!!!!!!!!\n",
        "\n",
        "\n",
        "As discuss before each node will return a new value for our state key messages.\n",
        "\n",
        "But, this new value will will override the prior messages value.\n",
        "\n",
        "As our graph runs, want to append messages to to our messages state key.\n",
        "\n",
        "#use reducer functions address this to fix this problem ...\n",
        "\n",
        "Reducers allow to specify how state updates are performed\n",
        "\n",
        "If no reducer function is specified, then it is assumed that updates to the key should override it as before.\n",
        "\n",
        "But, to append messages, we can use the pre-built add_messages reducer.\n",
        "\n",
        "This ensures that any messages are appended to the existing list of messages.\n",
        "\n",
        "An annotate simply need to annotate our messages key with the add_messages reducer function as metadata."
      ],
      "metadata": {
        "id": "yn4rIbRd4R3F"
      }
    },
    {
      "cell_type": "code",
      "source": [
        "from typing import Annotated\n",
        "from langgraph.graph.message import add_messages\n",
        "\n",
        "class MessagesState(TypedDict):\n",
        "  message : Annotated[list[AnyMessage], add_messages]"
      ],
      "metadata": {
        "id": "tkHE4gr15olZ"
      },
      "execution_count": 24,
      "outputs": []
    },
    {
      "cell_type": "markdown",
      "source": [
        "Since have list of message in graph state is common, LangGraph has pre-built MessageState\n",
        "\n",
        "Let's see what is in MessageState:\n",
        "\n",
        "\n",
        "*   With a pre-build single messages key\n",
        "*   This is a list of AnyMessage objects\n",
        "*   It uses the add_messages reducer\n"
      ],
      "metadata": {
        "id": "gfjsshz18Acz"
      }
    },
    {
      "cell_type": "markdown",
      "source": [
        "Usually use MessagesState because it is less verbose than defining a custom TypedDict, as shown above."
      ],
      "metadata": {
        "id": "9_H9A5aR8yL5"
      }
    },
    {
      "cell_type": "code",
      "source": [
        "from langgraph.graph import MessagesState\n",
        "\n",
        "class MessagesState(MessagesState)\n",
        "  # Add any keys needed beyond messages, which is pre-built\n",
        "  pass"
      ],
      "metadata": {
        "id": "RWOXYzg39Ma-"
      },
      "execution_count": null,
      "outputs": []
    },
    {
      "cell_type": "markdown",
      "source": [
        "To go a bit deeper, to can see how the add_messages reducer works in isolation."
      ],
      "metadata": {
        "id": "e4owxYmj9W3n"
      }
    },
    {
      "cell_type": "code",
      "source": [
        "initial_messages = [AIMessage(content=f\"Hi how can i assistant you ?\", name=\"model\"),\n",
        "                    HumanMessage(content=\"Hi, i'm looking for information to make a trip for vacation in Thailand\", name=\"kwan\")]\n",
        "\n",
        "#new message add\n",
        "new_message = AIMessage(content=\"Sure, i will looking for information about your trip. How many day of your trip\", model=\"model\")\n",
        "\n",
        "#test\n",
        "add_messages(initial_messages, new_message)"
      ],
      "metadata": {
        "colab": {
          "base_uri": "https://localhost:8080/"
        },
        "id": "-lP3lD__9eJN",
        "outputId": "8f6f9904-dce3-4005-e18c-3a89db11c56b"
      },
      "execution_count": 26,
      "outputs": [
        {
          "output_type": "execute_result",
          "data": {
            "text/plain": [
              "[AIMessage(content='Hi how can i assistant you ?', additional_kwargs={}, response_metadata={}, name='model', id='576078f2-19e1-4885-b8d4-e95eac8d2ac2'),\n",
              " HumanMessage(content=\"Hi, i'm looking for information to make a trip for vacation in Thailand\", additional_kwargs={}, response_metadata={}, name='kwan', id='ac5eaa0c-fab3-4ccb-974d-823ca8c48563'),\n",
              " AIMessage(content='Sure, i will looking for information about your trip. How many day of your trip', additional_kwargs={}, response_metadata={}, id='95b12b6f-28cc-4bbf-84a4-1c67974c334c', model='model')]"
            ]
          },
          "metadata": {},
          "execution_count": 26
        }
      ]
    },
    {
      "cell_type": "markdown",
      "source": [
        "# Our graph\n",
        "\n",
        "Now, lets use MessagesState with a graph."
      ],
      "metadata": {
        "id": "vGkkBEBQ-z-2"
      }
    },
    {
      "cell_type": "code",
      "source": [
        "from IPython.display import Image, display\n",
        "from langgraph.graph import StateGraph, START, END\n",
        "\n",
        "#node\n",
        "def tool_call_llm (state: MessagesState):\n",
        "    return {\"message\" : llm_with_tool.invoke(state['message'])}\n",
        "\n",
        "#build Graph\n",
        "builder = StateGraph(MessagesState)\n",
        "builder.add_node(\"tool_call_llm\", tool_call_llm)\n",
        "builder.add_edge(START, \"tool_call_llm\")\n",
        "builder.add_edge(\"tool_call_llm\", END)\n",
        "graph = builder.compile()\n",
        "\n",
        "\n",
        "display(Image(graph.get_graph().draw_mermaid_png()))"
      ],
      "metadata": {
        "colab": {
          "base_uri": "https://localhost:8080/",
          "height": 251
        },
        "id": "JKYtaB8f-4so",
        "outputId": "c2615322-8929-4818-c20f-177f5c76c965"
      },
      "execution_count": 30,
      "outputs": [
        {
          "output_type": "display_data",
          "data": {
            "image/png": "[encoded data removed]",
            "text/plain": [
              "<IPython.core.display.Image object>"
            ]
          },
          "metadata": {}
        }
      ]
    },
    {
      "cell_type": "code",
      "source": [
        "#If pass in Hello!, the LLM responds without any tool calls.\n",
        "message = graph.invoke({\"message\" : [HumanMessage(content=\"Hello!\")]})\n",
        "for m in message['message']:\n",
        "  m.pretty_print()"
      ],
      "metadata": {
        "colab": {
          "base_uri": "https://localhost:8080/"
        },
        "id": "2XYy2akcA6Yc",
        "outputId": "95f808ba-901f-4158-ed10-a25a3b98b466"
      },
      "execution_count": 33,
      "outputs": [
        {
          "output_type": "stream",
          "name": "stdout",
          "text": [
            "================================\u001b[1m Human Message \u001b[0m=================================\n",
            "\n",
            "Hello!\n",
            "==================================\u001b[1m Ai Message \u001b[0m==================================\n",
            "\n",
            "Hello! How can I assist you today?\n"
          ]
        }
      ]
    },
    {
      "cell_type": "code",
      "source": [
        "#The LLM chooses to use a tool when it determines that the input or task requires the functionality provided by that tool.\n",
        "message = graph.invoke({\"message\" : [HumanMessage(content=\"what is 48 plus 27\")]})\n",
        "for m in message['message']:\n",
        "  m.pretty_print()"
      ],
      "metadata": {
        "colab": {
          "base_uri": "https://localhost:8080/"
        },
        "id": "VKgFBEtFBkRk",
        "outputId": "211ec259-acf2-4b9a-a265-3569b15c49d9"
      },
      "execution_count": 34,
      "outputs": [
        {
          "output_type": "stream",
          "name": "stdout",
          "text": [
            "================================\u001b[1m Human Message \u001b[0m=================================\n",
            "\n",
            "what is 48 plus 27\n",
            "==================================\u001b[1m Ai Message \u001b[0m==================================\n",
            "Tool Calls:\n",
            "  plus (call_0hOwGn22mV5Dh3vmHInTXKKM)\n",
            " Call ID: call_0hOwGn22mV5Dh3vmHInTXKKM\n",
            "  Args:\n",
            "    a: 48\n",
            "    b: 27\n"
          ]
        }
      ]
    }
  ]
}